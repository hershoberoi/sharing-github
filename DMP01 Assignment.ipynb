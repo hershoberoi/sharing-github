{
 "cells": [
  {
   "cell_type": "code",
   "execution_count": 9,
   "metadata": {},
   "outputs": [],
   "source": [
    "import pandas as pd\n",
    "import numpy as np\n",
    "import datetime\n",
    "# pd.core.common.is_list_like = pd.api.types.is_list_like\n",
    "import matplotlib.pyplot as plt\n",
    "import pandas_datareader.data as web\n",
    "import os"
   ]
  },
  {
   "cell_type": "code",
   "execution_count": 10,
   "metadata": {},
   "outputs": [],
   "source": [
    "import pandas_datareader as pdr"
   ]
  },
  {
   "cell_type": "code",
   "execution_count": 12,
   "metadata": {},
   "outputs": [
    {
     "name": "stdout",
     "output_type": "stream",
     "text": [
      "            Date        Open        High         Low       Close   Adj Close  \\\n",
      "0     2009-12-15   29.889999   30.209999   29.879999   30.020000   23.628725   \n",
      "1     2009-12-16   30.070000   30.410000   30.040001   30.100000   23.691690   \n",
      "2     2009-12-17   29.950001   29.959999   29.570000   29.600000   23.298141   \n",
      "3     2009-12-18   29.840000   30.450001   29.799999   30.360001   23.896334   \n",
      "4     2009-12-21   30.400000   30.840000   30.370001   30.520000   24.022272   \n",
      "5     2009-12-22   30.600000   30.930000   30.540001   30.820000   24.258406   \n",
      "6     2009-12-23   30.709999   30.950001   30.690001   30.920000   24.337109   \n",
      "7     2009-12-24   30.879999   31.000000   30.760000   31.000000   24.400082   \n",
      "8     2009-12-28   31.000000   31.180000   30.889999   31.170000   24.533884   \n",
      "9     2009-12-29   31.350000   31.500000   31.230000   31.389999   24.707052   \n",
      "10    2009-12-30   31.150000   31.290001   30.799999   30.959999   24.368599   \n",
      "11    2009-12-31   30.980000   30.990000   30.480000   30.480000   23.990791   \n",
      "12    2010-01-04   30.620001   31.100000   30.590000   30.950001   24.360727   \n",
      "13    2010-01-05   30.850000   31.100000   30.639999   30.959999   24.368599   \n",
      "14    2010-01-06   30.879999   31.080000   30.520000   30.770000   24.219046   \n",
      "15    2010-01-07   30.629999   30.700001   30.190001   30.450001   23.967175   \n",
      "16    2010-01-08   30.280001   30.879999   30.240000   30.660000   24.132469   \n",
      "17    2010-01-11   30.709999   30.760000   30.120001   30.270000   23.825497   \n",
      "18    2010-01-12   30.150000   30.400000   29.910000   30.070000   23.668074   \n",
      "19    2010-01-13   30.260000   30.520000   30.010000   30.350000   23.888464   \n",
      "20    2010-01-14   30.309999   31.100000   30.260000   30.959999   24.368599   \n",
      "21    2010-01-15   31.080000   31.240000   30.709999   30.860001   24.289886   \n",
      "22    2010-01-19   30.750000   31.240000   30.680000   31.100000   24.478792   \n",
      "23    2010-01-20   30.809999   30.940001   30.309999   30.590000   24.077366   \n",
      "24    2010-01-21   30.610001   30.719999   30.000000   30.010000   23.620857   \n",
      "25    2010-01-22   30.000000   30.200001   28.840000   28.959999   22.794395   \n",
      "26    2010-01-25   29.240000   29.660000   29.100000   29.320000   23.077757   \n",
      "27    2010-01-26   29.200001   29.850000   29.090000   29.500000   23.219431   \n",
      "28    2010-01-27   29.350000   29.820000   29.020000   29.670000   23.353241   \n",
      "29    2010-01-28   29.840000   29.870001   28.889999   29.160000   22.951815   \n",
      "...          ...         ...         ...         ...         ...         ...   \n",
      "2487  2019-11-01  144.259995  144.419998  142.970001  143.720001  143.232620   \n",
      "2488  2019-11-04  144.830002  145.000000  144.160004  144.550003  144.059799   \n",
      "2489  2019-11-05  144.970001  145.020004  143.910004  144.460007  143.970108   \n",
      "2490  2019-11-06  144.369995  144.520004  143.199997  144.059998  143.571457   \n",
      "2491  2019-11-07  143.839996  144.880005  143.770004  144.259995  143.770782   \n",
      "2492  2019-11-08  143.979996  145.990005  143.759995  145.960007  145.465027   \n",
      "2493  2019-11-11  145.339996  146.419998  144.729996  146.110001  145.614517   \n",
      "2494  2019-11-12  146.279999  147.570007  146.059998  147.070007  146.571259   \n",
      "2495  2019-11-13  146.740005  147.460007  146.279999  147.309998  146.810440   \n",
      "2496  2019-11-14  147.020004  148.410004  147.000000  148.059998  147.557892   \n",
      "2497  2019-11-15  148.929993  149.990005  148.270004  149.970001  149.461426   \n",
      "2498  2019-11-18  150.070007  150.550003  148.979996  150.339996  149.830170   \n",
      "2499  2019-11-19  150.880005  151.330002  150.199997  150.389999  149.879990   \n",
      "2500  2019-11-20  150.309998  150.839996  148.460007  149.619995  149.619995   \n",
      "2501  2019-11-21  149.399994  149.800003  148.500000  149.479996  149.479996   \n",
      "2502  2019-11-22  150.070007  150.300003  148.820007  149.589996  149.589996   \n",
      "2503  2019-11-25  150.000000  151.350006  149.919998  151.229996  151.229996   \n",
      "2504  2019-11-26  151.360001  152.419998  151.320007  152.029999  152.029999   \n",
      "2505  2019-11-27  152.330002  152.500000  151.520004  152.320007  152.320007   \n",
      "2506  2019-11-29  152.100006  152.300003  151.279999  151.380005  151.380005   \n",
      "2507  2019-12-02  151.809998  151.830002  148.320007  149.550003  149.550003   \n",
      "2508  2019-12-03  147.490005  149.429993  146.649994  149.309998  149.309998   \n",
      "2509  2019-12-04  150.139999  150.179993  149.199997  149.850006  149.850006   \n",
      "2510  2019-12-05  150.050003  150.320007  149.479996  149.929993  149.929993   \n",
      "2511  2019-12-06  150.990005  151.869995  150.270004  151.750000  151.750000   \n",
      "2512  2019-12-09  151.070007  152.210007  150.910004  151.360001  151.360001   \n",
      "2513  2019-12-10  151.289993  151.889999  150.759995  151.130005  151.130005   \n",
      "2514  2019-12-11  151.539993  151.869995  150.330002  151.699997  151.699997   \n",
      "2515  2019-12-12  151.649994  153.440002  151.020004  153.240005  153.240005   \n",
      "2516  2019-12-13  153.000000  154.889999  152.830002  154.529999  154.529999   \n",
      "\n",
      "         Volume  \n",
      "0      49473200  \n",
      "1      55737800  \n",
      "2      43691200  \n",
      "3      94118000  \n",
      "4      40129100  \n",
      "5      36321000  \n",
      "6      28362700  \n",
      "7      11083900  \n",
      "8      25384000  \n",
      "9      29716200  \n",
      "10     42006200  \n",
      "11     31929700  \n",
      "12     38409100  \n",
      "13     49749600  \n",
      "14     58182400  \n",
      "15     50559700  \n",
      "16     51197400  \n",
      "17     68754700  \n",
      "18     65912100  \n",
      "19     51863500  \n",
      "20     63228100  \n",
      "21     79913200  \n",
      "22     46575700  \n",
      "23     54849500  \n",
      "24     73086700  \n",
      "25    102004600  \n",
      "26     63373000  \n",
      "27     66639900  \n",
      "28     63949500  \n",
      "29    117513700  \n",
      "...         ...  \n",
      "2487   33128400  \n",
      "2488   16912000  \n",
      "2489   18250200  \n",
      "2490   16575800  \n",
      "2491   17786700  \n",
      "2492   16732700  \n",
      "2493   14362600  \n",
      "2494   18641600  \n",
      "2495   16919200  \n",
      "2496   19729800  \n",
      "2497   23485700  \n",
      "2498   21534000  \n",
      "2499   23935700  \n",
      "2500   25696800  \n",
      "2501   18576100  \n",
      "2502   15901800  \n",
      "2503   22420900  \n",
      "2504   24620100  \n",
      "2505   15184400  \n",
      "2506   11977300  \n",
      "2507   27418400  \n",
      "2508   24066000  \n",
      "2509   17574700  \n",
      "2510   17869100  \n",
      "2511   16403500  \n",
      "2512   16687400  \n",
      "2513   16476100  \n",
      "2514   18856600  \n",
      "2515   24612100  \n",
      "2516   23845400  \n",
      "\n",
      "[2517 rows x 7 columns]\n"
     ]
    }
   ],
   "source": [
    "import pandas as pd\n",
    "\n",
    "df = pd.read_csv (r'C:\\Users\\Hersh\\Desktop\\Quantisti Folder\\DMP\\DMP01 Assignment\\MSFT.csv')   #read the csv file (put 'r' before the path string to address any special characters, such as '\\'). Don't forget to put the file name at the end of the path + \".csv\"\n",
    "print (df)\n"
   ]
  },
  {
   "cell_type": "code",
   "execution_count": 14,
   "metadata": {},
   "outputs": [
    {
     "data": {
      "text/html": [
       "<div>\n",
       "<style scoped>\n",
       "    .dataframe tbody tr th:only-of-type {\n",
       "        vertical-align: middle;\n",
       "    }\n",
       "\n",
       "    .dataframe tbody tr th {\n",
       "        vertical-align: top;\n",
       "    }\n",
       "\n",
       "    .dataframe thead th {\n",
       "        text-align: right;\n",
       "    }\n",
       "</style>\n",
       "<table border=\"1\" class=\"dataframe\">\n",
       "  <thead>\n",
       "    <tr style=\"text-align: right;\">\n",
       "      <th></th>\n",
       "      <th>Date</th>\n",
       "      <th>Open</th>\n",
       "      <th>High</th>\n",
       "      <th>Low</th>\n",
       "      <th>Close</th>\n",
       "      <th>Adj Close</th>\n",
       "      <th>Volume</th>\n",
       "    </tr>\n",
       "  </thead>\n",
       "  <tbody>\n",
       "    <tr>\n",
       "      <th>0</th>\n",
       "      <td>2009-12-15</td>\n",
       "      <td>29.889999</td>\n",
       "      <td>30.209999</td>\n",
       "      <td>29.879999</td>\n",
       "      <td>30.020000</td>\n",
       "      <td>23.628725</td>\n",
       "      <td>49473200</td>\n",
       "    </tr>\n",
       "    <tr>\n",
       "      <th>1</th>\n",
       "      <td>2009-12-16</td>\n",
       "      <td>30.070000</td>\n",
       "      <td>30.410000</td>\n",
       "      <td>30.040001</td>\n",
       "      <td>30.100000</td>\n",
       "      <td>23.691690</td>\n",
       "      <td>55737800</td>\n",
       "    </tr>\n",
       "    <tr>\n",
       "      <th>2</th>\n",
       "      <td>2009-12-17</td>\n",
       "      <td>29.950001</td>\n",
       "      <td>29.959999</td>\n",
       "      <td>29.570000</td>\n",
       "      <td>29.600000</td>\n",
       "      <td>23.298141</td>\n",
       "      <td>43691200</td>\n",
       "    </tr>\n",
       "    <tr>\n",
       "      <th>3</th>\n",
       "      <td>2009-12-18</td>\n",
       "      <td>29.840000</td>\n",
       "      <td>30.450001</td>\n",
       "      <td>29.799999</td>\n",
       "      <td>30.360001</td>\n",
       "      <td>23.896334</td>\n",
       "      <td>94118000</td>\n",
       "    </tr>\n",
       "    <tr>\n",
       "      <th>4</th>\n",
       "      <td>2009-12-21</td>\n",
       "      <td>30.400000</td>\n",
       "      <td>30.840000</td>\n",
       "      <td>30.370001</td>\n",
       "      <td>30.520000</td>\n",
       "      <td>24.022272</td>\n",
       "      <td>40129100</td>\n",
       "    </tr>\n",
       "  </tbody>\n",
       "</table>\n",
       "</div>"
      ],
      "text/plain": [
       "         Date       Open       High        Low      Close  Adj Close    Volume\n",
       "0  2009-12-15  29.889999  30.209999  29.879999  30.020000  23.628725  49473200\n",
       "1  2009-12-16  30.070000  30.410000  30.040001  30.100000  23.691690  55737800\n",
       "2  2009-12-17  29.950001  29.959999  29.570000  29.600000  23.298141  43691200\n",
       "3  2009-12-18  29.840000  30.450001  29.799999  30.360001  23.896334  94118000\n",
       "4  2009-12-21  30.400000  30.840000  30.370001  30.520000  24.022272  40129100"
      ]
     },
     "execution_count": 14,
     "metadata": {},
     "output_type": "execute_result"
    }
   ],
   "source": [
    "df.head()"
   ]
  },
  {
   "cell_type": "markdown",
   "metadata": {},
   "source": [
    "## Q1: We'd created a list called 'wealth' in the modified Faber strategy. We also computed maWealth. Use the method cumprod() from NumPy instead to get the same output. (Hint: You don't need to create maWealth). (5 Marks)"
   ]
  },
  {
   "cell_type": "code",
   "execution_count": 15,
   "metadata": {},
   "outputs": [],
   "source": [
    "df1 = df.copy()\n",
    "df2 = df.copy()"
   ]
  },
  {
   "cell_type": "code",
   "execution_count": 28,
   "metadata": {},
   "outputs": [],
   "source": [
    "buyPrice = 0\n",
    "sellPrice = 0\n",
    "cash = 1\n",
    "stock = 0\n",
    "sma = 200\n",
    "ChangeValue= 1.0\n",
    "\n",
    "ma = np.round(df1['Adj Close'].rolling(window=sma, center=False).mean(), 2)\n",
    "n_days = len(df1['Adj Close'])"
   ]
  },
  {
   "cell_type": "code",
   "execution_count": 42,
   "metadata": {},
   "outputs": [],
   "source": [
    "closePrices = df1['Adj Close']\n",
    "\n",
    "buy_data = []\n",
    "sell_data = []\n",
    "\n",
    "trade_price = []\n",
    "\n",
    "\n",
    "for d in range(sma-1, n_days):\n",
    "    # Buy if stock price > MA & if not bought yet\n",
    "    if closePrices[d] > ma[d] and cash == 1:\n",
    "        buyPrice = closePrices[d + 1]\n",
    "        buy_data.append(buyPrice)\n",
    "        trade_price.append(buyPrice)\n",
    "        cash = 0\n",
    "        stock = 1\n",
    "\n",
    "    # Sell if stock price < MA and if you have a stock to sell\n",
    "\n",
    "    if closePrices[d] < ma[d] and stock == 1:\n",
    "        sellPrice = closePrices[d + 1]\n",
    "        sell_data.append(sellPrice)\n",
    "        trade_price.append(sellPrice)\n",
    "        cash = 1\n",
    "        stock = 0\n",
    "\n",
    "    ChangeValue = 1 * (sellPrice / buyPrice)"
   ]
  },
  {
   "cell_type": "code",
   "execution_count": 43,
   "metadata": {},
   "outputs": [],
   "source": [
    "pnl=ChangeValue.cumprod()"
   ]
  },
  {
   "cell_type": "code",
   "execution_count": 44,
   "metadata": {},
   "outputs": [
    {
     "data": {
      "text/plain": [
       "array([0.98619647])"
      ]
     },
     "execution_count": 44,
     "metadata": {},
     "output_type": "execute_result"
    }
   ],
   "source": [
    "pnl"
   ]
  },
  {
   "cell_type": "code",
   "execution_count": 45,
   "metadata": {},
   "outputs": [],
   "source": [
    "wealth.append(pnl)"
   ]
  },
  {
   "cell_type": "code",
   "execution_count": 46,
   "metadata": {},
   "outputs": [
    {
     "data": {
      "text/plain": [
       "3"
      ]
     },
     "execution_count": 46,
     "metadata": {},
     "output_type": "execute_result"
    }
   ],
   "source": [
    "len(wealth)"
   ]
  },
  {
   "cell_type": "code",
   "execution_count": 47,
   "metadata": {},
   "outputs": [
    {
     "data": {
      "text/plain": [
       "list"
      ]
     },
     "execution_count": 47,
     "metadata": {},
     "output_type": "execute_result"
    }
   ],
   "source": [
    "type(wealth)"
   ]
  },
  {
   "cell_type": "code",
   "execution_count": 48,
   "metadata": {},
   "outputs": [
    {
     "data": {
      "text/plain": [
       "[<matplotlib.lines.Line2D at 0x2688a95d198>]"
      ]
     },
     "execution_count": 48,
     "metadata": {},
     "output_type": "execute_result"
    },
    {
     "data": {
      "image/png": "[encoded data removed]",
      "text/plain": [
       "<Figure size 432x288 with 1 Axes>"
      ]
     },
     "metadata": {
      "needs_background": "light"
     },
     "output_type": "display_data"
    }
   ],
   "source": [
    "plt.plot(wealth)"
   ]
  },
  {
   "cell_type": "markdown",
   "metadata": {},
   "source": [
    "Q2: The modified Faber's strategy has been implemented using 'for loop'. Implement the same strategy using dataframe.apply() method. (5 Marks)"
   ]
  },
  {
   "cell_type": "code",
   "execution_count": null,
   "metadata": {},
   "outputs": [],
   "source": []
  },
  {
   "cell_type": "code",
   "execution_count": null,
   "metadata": {},
   "outputs": [],
   "source": []
  },
  {
   "cell_type": "code",
   "execution_count": null,
   "metadata": {},
   "outputs": [],
   "source": []
  }
 ],
 "metadata": {
  "kernelspec": {
   "display_name": "Python 3",
   "language": "python",
   "name": "python3"
  },
  "language_info": {
   "codemirror_mode": {
    "name": "ipython",
    "version": 3
   },
   "file_extension": ".py",
   "mimetype": "text/x-python",
   "name": "python",
   "nbconvert_exporter": "python",
   "pygments_lexer": "ipython3",
   "version": "3.7.1"
  }
 },
 "nbformat": 4,
 "nbformat_minor": 2
}
